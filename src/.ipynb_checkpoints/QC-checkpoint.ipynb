{
 "cells": [
  {
   "cell_type": "code",
   "execution_count": 1,
   "metadata": {},
   "outputs": [],
   "source": [
    "import pandas as pd\n",
    "import numpy as np\n",
    "import os.path as op\n",
    "import glob\n",
    "import csv\n",
    "import os"
   ]
  },
  {
   "cell_type": "code",
   "execution_count": 2,
   "metadata": {},
   "outputs": [],
   "source": [
    "# change the directory to folder where data is downloaded\n",
    "path_main = 'D:\\\\BrainHack\\\\QC\\\\data'\n",
    "os.chdir(path_main)"
   ]
  },
  {
   "cell_type": "markdown",
   "metadata": {},
   "source": [
    "## Convert json files to csv: Apply on all subjects of BDB"
   ]
  },
  {
   "cell_type": "code",
   "execution_count": 3,
   "metadata": {},
   "outputs": [],
   "source": [
    "subject_list = ['sub-00030{:0>2d}'.format(i) for i in range(1,65)] "
   ]
  },
  {
   "cell_type": "code",
   "execution_count": 4,
   "metadata": {},
   "outputs": [],
   "source": [
    "def convert_json_to_csv(filename):\n",
    "    df = pd.read_json(json_file + '.json')\n",
    "    df = df.reset_index(drop=True)\n",
    "    df = df.iloc[0,:]\n",
    "    df.to_csv(json_file + '.csv')"
   ]
  },
  {
   "cell_type": "code",
   "execution_count": 5,
   "metadata": {},
   "outputs": [
    {
     "name": "stdout",
     "output_type": "stream",
     "text": [
      "Processing  sub-0003001\n",
      "Converted successfully  mriqc\\sub-0003001\\ses-1\\anat\\sub-0003001_ses-1_run-1_T1w\n",
      "Converted successfully  mriqc\\sub-0003001\\ses-1\\func\\sub-0003001_ses-1_task-rest_run-1_bold\n",
      "Converted successfully  mriqc\\sub-0003001\\ses-1\\func\\sub-0003001_ses-1_task-rest_run-2_bold\n",
      "Processing  sub-0003002\n",
      "Converted successfully  mriqc\\sub-0003002\\ses-1\\anat\\sub-0003002_ses-1_run-1_T1w\n",
      "Converted successfully  mriqc\\sub-0003002\\ses-1\\func\\sub-0003002_ses-1_task-rest_run-1_bold\n",
      "Converted successfully  mriqc\\sub-0003002\\ses-1\\func\\sub-0003002_ses-1_task-rest_run-2_bold\n",
      "Skipping  sub-0003003\n",
      "Processing  sub-0003004\n",
      "File not found mriqc\\sub-0003004\\ses-1\\anat\\sub-0003004_ses-1_run-1_T1w\n",
      "Converted successfully  mriqc\\sub-0003004\\ses-1\\func\\sub-0003004_ses-1_task-rest_run-1_bold\n",
      "Converted successfully  mriqc\\sub-0003004\\ses-1\\func\\sub-0003004_ses-1_task-rest_run-2_bold\n",
      "Skipping  sub-0003005\n",
      "Processing  sub-0003006\n",
      "Converted successfully  mriqc\\sub-0003006\\ses-1\\anat\\sub-0003006_ses-1_run-1_T1w\n",
      "Converted successfully  mriqc\\sub-0003006\\ses-1\\func\\sub-0003006_ses-1_task-rest_run-1_bold\n",
      "Converted successfully  mriqc\\sub-0003006\\ses-1\\func\\sub-0003006_ses-1_task-rest_run-2_bold\n",
      "Processing  sub-0003007\n",
      "Converted successfully  mriqc\\sub-0003007\\ses-1\\anat\\sub-0003007_ses-1_run-1_T1w\n",
      "Converted successfully  mriqc\\sub-0003007\\ses-1\\func\\sub-0003007_ses-1_task-rest_run-1_bold\n",
      "Converted successfully  mriqc\\sub-0003007\\ses-1\\func\\sub-0003007_ses-1_task-rest_run-2_bold\n",
      "Processing  sub-0003008\n",
      "Converted successfully  mriqc\\sub-0003008\\ses-1\\anat\\sub-0003008_ses-1_run-1_T1w\n",
      "Converted successfully  mriqc\\sub-0003008\\ses-1\\func\\sub-0003008_ses-1_task-rest_run-1_bold\n",
      "Converted successfully  mriqc\\sub-0003008\\ses-1\\func\\sub-0003008_ses-1_task-rest_run-2_bold\n",
      "Processing  sub-0003009\n",
      "Converted successfully  mriqc\\sub-0003009\\ses-1\\anat\\sub-0003009_ses-1_run-1_T1w\n",
      "Converted successfully  mriqc\\sub-0003009\\ses-1\\func\\sub-0003009_ses-1_task-rest_run-1_bold\n",
      "Converted successfully  mriqc\\sub-0003009\\ses-1\\func\\sub-0003009_ses-1_task-rest_run-2_bold\n",
      "Processing  sub-0003010\n",
      "Converted successfully  mriqc\\sub-0003010\\ses-1\\anat\\sub-0003010_ses-1_run-1_T1w\n",
      "Converted successfully  mriqc\\sub-0003010\\ses-1\\func\\sub-0003010_ses-1_task-rest_run-1_bold\n",
      "Converted successfully  mriqc\\sub-0003010\\ses-1\\func\\sub-0003010_ses-1_task-rest_run-2_bold\n",
      "Processing  sub-0003011\n",
      "Converted successfully  mriqc\\sub-0003011\\ses-1\\anat\\sub-0003011_ses-1_run-1_T1w\n",
      "Converted successfully  mriqc\\sub-0003011\\ses-1\\func\\sub-0003011_ses-1_task-rest_run-1_bold\n",
      "Converted successfully  mriqc\\sub-0003011\\ses-1\\func\\sub-0003011_ses-1_task-rest_run-2_bold\n",
      "Processing  sub-0003012\n",
      "Converted successfully  mriqc\\sub-0003012\\ses-1\\anat\\sub-0003012_ses-1_run-1_T1w\n",
      "Converted successfully  mriqc\\sub-0003012\\ses-1\\func\\sub-0003012_ses-1_task-rest_run-1_bold\n",
      "Converted successfully  mriqc\\sub-0003012\\ses-1\\func\\sub-0003012_ses-1_task-rest_run-2_bold\n",
      "Processing  sub-0003013\n",
      "Converted successfully  mriqc\\sub-0003013\\ses-1\\anat\\sub-0003013_ses-1_run-1_T1w\n",
      "Converted successfully  mriqc\\sub-0003013\\ses-1\\func\\sub-0003013_ses-1_task-rest_run-1_bold\n",
      "Converted successfully  mriqc\\sub-0003013\\ses-1\\func\\sub-0003013_ses-1_task-rest_run-2_bold\n",
      "Processing  sub-0003014\n",
      "Converted successfully  mriqc\\sub-0003014\\ses-1\\anat\\sub-0003014_ses-1_run-1_T1w\n",
      "Converted successfully  mriqc\\sub-0003014\\ses-1\\func\\sub-0003014_ses-1_task-rest_run-1_bold\n",
      "Converted successfully  mriqc\\sub-0003014\\ses-1\\func\\sub-0003014_ses-1_task-rest_run-2_bold\n",
      "Processing  sub-0003015\n",
      "Converted successfully  mriqc\\sub-0003015\\ses-1\\anat\\sub-0003015_ses-1_run-1_T1w\n",
      "Converted successfully  mriqc\\sub-0003015\\ses-1\\func\\sub-0003015_ses-1_task-rest_run-1_bold\n",
      "Converted successfully  mriqc\\sub-0003015\\ses-1\\func\\sub-0003015_ses-1_task-rest_run-2_bold\n",
      "Processing  sub-0003016\n",
      "Converted successfully  mriqc\\sub-0003016\\ses-1\\anat\\sub-0003016_ses-1_run-1_T1w\n",
      "Converted successfully  mriqc\\sub-0003016\\ses-1\\func\\sub-0003016_ses-1_task-rest_run-1_bold\n",
      "Converted successfully  mriqc\\sub-0003016\\ses-1\\func\\sub-0003016_ses-1_task-rest_run-2_bold\n",
      "Processing  sub-0003017\n",
      "Converted successfully  mriqc\\sub-0003017\\ses-1\\anat\\sub-0003017_ses-1_run-1_T1w\n",
      "Converted successfully  mriqc\\sub-0003017\\ses-1\\func\\sub-0003017_ses-1_task-rest_run-1_bold\n",
      "Converted successfully  mriqc\\sub-0003017\\ses-1\\func\\sub-0003017_ses-1_task-rest_run-2_bold\n",
      "Processing  sub-0003018\n",
      "Converted successfully  mriqc\\sub-0003018\\ses-1\\anat\\sub-0003018_ses-1_run-1_T1w\n",
      "Converted successfully  mriqc\\sub-0003018\\ses-1\\func\\sub-0003018_ses-1_task-rest_run-1_bold\n",
      "Converted successfully  mriqc\\sub-0003018\\ses-1\\func\\sub-0003018_ses-1_task-rest_run-2_bold\n",
      "Skipping  sub-0003019\n",
      "Processing  sub-0003020\n",
      "Converted successfully  mriqc\\sub-0003020\\ses-1\\anat\\sub-0003020_ses-1_run-1_T1w\n",
      "Converted successfully  mriqc\\sub-0003020\\ses-1\\func\\sub-0003020_ses-1_task-rest_run-1_bold\n",
      "Converted successfully  mriqc\\sub-0003020\\ses-1\\func\\sub-0003020_ses-1_task-rest_run-2_bold\n",
      "Processing  sub-0003021\n",
      "Converted successfully  mriqc\\sub-0003021\\ses-1\\anat\\sub-0003021_ses-1_run-1_T1w\n",
      "Converted successfully  mriqc\\sub-0003021\\ses-1\\func\\sub-0003021_ses-1_task-rest_run-1_bold\n",
      "Converted successfully  mriqc\\sub-0003021\\ses-1\\func\\sub-0003021_ses-1_task-rest_run-2_bold\n",
      "Processing  sub-0003022\n",
      "Converted successfully  mriqc\\sub-0003022\\ses-1\\anat\\sub-0003022_ses-1_run-1_T1w\n",
      "Converted successfully  mriqc\\sub-0003022\\ses-1\\func\\sub-0003022_ses-1_task-rest_run-1_bold\n",
      "Converted successfully  mriqc\\sub-0003022\\ses-1\\func\\sub-0003022_ses-1_task-rest_run-2_bold\n",
      "Processing  sub-0003023\n",
      "Converted successfully  mriqc\\sub-0003023\\ses-1\\anat\\sub-0003023_ses-1_run-1_T1w\n",
      "Converted successfully  mriqc\\sub-0003023\\ses-1\\func\\sub-0003023_ses-1_task-rest_run-1_bold\n",
      "Converted successfully  mriqc\\sub-0003023\\ses-1\\func\\sub-0003023_ses-1_task-rest_run-2_bold\n",
      "Processing  sub-0003024\n",
      "Converted successfully  mriqc\\sub-0003024\\ses-1\\anat\\sub-0003024_ses-1_run-1_T1w\n",
      "Converted successfully  mriqc\\sub-0003024\\ses-1\\func\\sub-0003024_ses-1_task-rest_run-1_bold\n",
      "Converted successfully  mriqc\\sub-0003024\\ses-1\\func\\sub-0003024_ses-1_task-rest_run-2_bold\n",
      "Processing  sub-0003025\n",
      "Converted successfully  mriqc\\sub-0003025\\ses-1\\anat\\sub-0003025_ses-1_run-1_T1w\n",
      "Converted successfully  mriqc\\sub-0003025\\ses-1\\func\\sub-0003025_ses-1_task-rest_run-1_bold\n",
      "Converted successfully  mriqc\\sub-0003025\\ses-1\\func\\sub-0003025_ses-1_task-rest_run-2_bold\n",
      "Processing  sub-0003026\n",
      "Converted successfully  mriqc\\sub-0003026\\ses-1\\anat\\sub-0003026_ses-1_run-1_T1w\n",
      "Converted successfully  mriqc\\sub-0003026\\ses-1\\func\\sub-0003026_ses-1_task-rest_run-1_bold\n",
      "Converted successfully  mriqc\\sub-0003026\\ses-1\\func\\sub-0003026_ses-1_task-rest_run-2_bold\n",
      "Skipping  sub-0003027\n",
      "Skipping  sub-0003028\n",
      "Skipping  sub-0003029\n",
      "Skipping  sub-0003030\n",
      "Skipping  sub-0003031\n",
      "Processing  sub-0003032\n",
      "Converted successfully  mriqc\\sub-0003032\\ses-1\\anat\\sub-0003032_ses-1_run-1_T1w\n",
      "Converted successfully  mriqc\\sub-0003032\\ses-1\\func\\sub-0003032_ses-1_task-rest_run-1_bold\n",
      "Converted successfully  mriqc\\sub-0003032\\ses-1\\func\\sub-0003032_ses-1_task-rest_run-2_bold\n",
      "Processing  sub-0003033\n",
      "Converted successfully  mriqc\\sub-0003033\\ses-1\\anat\\sub-0003033_ses-1_run-1_T1w\n",
      "Converted successfully  mriqc\\sub-0003033\\ses-1\\func\\sub-0003033_ses-1_task-rest_run-1_bold\n",
      "Converted successfully  mriqc\\sub-0003033\\ses-1\\func\\sub-0003033_ses-1_task-rest_run-2_bold\n",
      "Processing  sub-0003034\n",
      "Converted successfully  mriqc\\sub-0003034\\ses-1\\anat\\sub-0003034_ses-1_run-1_T1w\n",
      "Converted successfully  mriqc\\sub-0003034\\ses-1\\func\\sub-0003034_ses-1_task-rest_run-1_bold\n",
      "Converted successfully  mriqc\\sub-0003034\\ses-1\\func\\sub-0003034_ses-1_task-rest_run-2_bold\n",
      "Skipping  sub-0003035\n",
      "Skipping  sub-0003036\n",
      "Processing  sub-0003037\n",
      "Converted successfully  mriqc\\sub-0003037\\ses-1\\anat\\sub-0003037_ses-1_run-1_T1w\n",
      "Converted successfully  mriqc\\sub-0003037\\ses-1\\func\\sub-0003037_ses-1_task-rest_run-1_bold\n",
      "Converted successfully  mriqc\\sub-0003037\\ses-1\\func\\sub-0003037_ses-1_task-rest_run-2_bold\n",
      "Processing  sub-0003038\n",
      "Converted successfully  mriqc\\sub-0003038\\ses-1\\anat\\sub-0003038_ses-1_run-1_T1w\n",
      "Converted successfully  mriqc\\sub-0003038\\ses-1\\func\\sub-0003038_ses-1_task-rest_run-1_bold\n",
      "Converted successfully  mriqc\\sub-0003038\\ses-1\\func\\sub-0003038_ses-1_task-rest_run-2_bold\n",
      "Processing  sub-0003039\n"
     ]
    },
    {
     "name": "stdout",
     "output_type": "stream",
     "text": [
      "Converted successfully  mriqc\\sub-0003039\\ses-1\\anat\\sub-0003039_ses-1_run-1_T1w\n",
      "Converted successfully  mriqc\\sub-0003039\\ses-1\\func\\sub-0003039_ses-1_task-rest_run-1_bold\n",
      "Converted successfully  mriqc\\sub-0003039\\ses-1\\func\\sub-0003039_ses-1_task-rest_run-2_bold\n",
      "Processing  sub-0003040\n",
      "Converted successfully  mriqc\\sub-0003040\\ses-1\\anat\\sub-0003040_ses-1_run-1_T1w\n",
      "Converted successfully  mriqc\\sub-0003040\\ses-1\\func\\sub-0003040_ses-1_task-rest_run-1_bold\n",
      "Converted successfully  mriqc\\sub-0003040\\ses-1\\func\\sub-0003040_ses-1_task-rest_run-2_bold\n",
      "Processing  sub-0003041\n",
      "Converted successfully  mriqc\\sub-0003041\\ses-1\\anat\\sub-0003041_ses-1_run-1_T1w\n",
      "Converted successfully  mriqc\\sub-0003041\\ses-1\\func\\sub-0003041_ses-1_task-rest_run-1_bold\n",
      "Converted successfully  mriqc\\sub-0003041\\ses-1\\func\\sub-0003041_ses-1_task-rest_run-2_bold\n",
      "Processing  sub-0003042\n",
      "Converted successfully  mriqc\\sub-0003042\\ses-1\\anat\\sub-0003042_ses-1_run-1_T1w\n",
      "Converted successfully  mriqc\\sub-0003042\\ses-1\\func\\sub-0003042_ses-1_task-rest_run-1_bold\n",
      "Converted successfully  mriqc\\sub-0003042\\ses-1\\func\\sub-0003042_ses-1_task-rest_run-2_bold\n",
      "Skipping  sub-0003043\n",
      "Processing  sub-0003044\n",
      "Converted successfully  mriqc\\sub-0003044\\ses-1\\anat\\sub-0003044_ses-1_run-1_T1w\n",
      "Converted successfully  mriqc\\sub-0003044\\ses-1\\func\\sub-0003044_ses-1_task-rest_run-1_bold\n",
      "Converted successfully  mriqc\\sub-0003044\\ses-1\\func\\sub-0003044_ses-1_task-rest_run-2_bold\n",
      "Processing  sub-0003045\n",
      "Converted successfully  mriqc\\sub-0003045\\ses-1\\anat\\sub-0003045_ses-1_run-1_T1w\n",
      "Converted successfully  mriqc\\sub-0003045\\ses-1\\func\\sub-0003045_ses-1_task-rest_run-1_bold\n",
      "Converted successfully  mriqc\\sub-0003045\\ses-1\\func\\sub-0003045_ses-1_task-rest_run-2_bold\n",
      "Skipping  sub-0003046\n",
      "Processing  sub-0003047\n",
      "Converted successfully  mriqc\\sub-0003047\\ses-1\\anat\\sub-0003047_ses-1_run-1_T1w\n",
      "Converted successfully  mriqc\\sub-0003047\\ses-1\\func\\sub-0003047_ses-1_task-rest_run-1_bold\n",
      "Converted successfully  mriqc\\sub-0003047\\ses-1\\func\\sub-0003047_ses-1_task-rest_run-2_bold\n",
      "Skipping  sub-0003048\n",
      "Processing  sub-0003049\n",
      "Converted successfully  mriqc\\sub-0003049\\ses-1\\anat\\sub-0003049_ses-1_run-1_T1w\n",
      "Converted successfully  mriqc\\sub-0003049\\ses-1\\func\\sub-0003049_ses-1_task-rest_run-1_bold\n",
      "Converted successfully  mriqc\\sub-0003049\\ses-1\\func\\sub-0003049_ses-1_task-rest_run-2_bold\n",
      "Processing  sub-0003050\n",
      "Converted successfully  mriqc\\sub-0003050\\ses-1\\anat\\sub-0003050_ses-1_run-1_T1w\n",
      "Converted successfully  mriqc\\sub-0003050\\ses-1\\func\\sub-0003050_ses-1_task-rest_run-1_bold\n",
      "Converted successfully  mriqc\\sub-0003050\\ses-1\\func\\sub-0003050_ses-1_task-rest_run-2_bold\n",
      "Processing  sub-0003051\n",
      "Converted successfully  mriqc\\sub-0003051\\ses-1\\anat\\sub-0003051_ses-1_run-1_T1w\n",
      "Converted successfully  mriqc\\sub-0003051\\ses-1\\func\\sub-0003051_ses-1_task-rest_run-1_bold\n",
      "Converted successfully  mriqc\\sub-0003051\\ses-1\\func\\sub-0003051_ses-1_task-rest_run-2_bold\n",
      "Converted successfully  mriqc\\sub-0003051\\ses-1\\func\\sub-0003051_ses-1_task-rest_run-3_bold\n",
      "Converted successfully  mriqc\\sub-0003051\\ses-1\\func\\sub-0003051_ses-1_task-rest_run-4_bold\n",
      "Processing  sub-0003052\n",
      "Converted successfully  mriqc\\sub-0003052\\ses-1\\anat\\sub-0003052_ses-1_run-1_T1w\n",
      "Converted successfully  mriqc\\sub-0003052\\ses-1\\func\\sub-0003052_ses-1_task-rest_run-1_bold\n",
      "Converted successfully  mriqc\\sub-0003052\\ses-1\\func\\sub-0003052_ses-1_task-rest_run-2_bold\n",
      "Converted successfully  mriqc\\sub-0003052\\ses-1\\func\\sub-0003052_ses-1_task-rest_run-3_bold\n",
      "Converted successfully  mriqc\\sub-0003052\\ses-1\\func\\sub-0003052_ses-1_task-rest_run-4_bold\n",
      "Skipping  sub-0003053\n",
      "Processing  sub-0003054\n",
      "Converted successfully  mriqc\\sub-0003054\\ses-1\\anat\\sub-0003054_ses-1_run-1_T1w\n",
      "Converted successfully  mriqc\\sub-0003054\\ses-1\\func\\sub-0003054_ses-1_task-rest_run-1_bold\n",
      "Converted successfully  mriqc\\sub-0003054\\ses-1\\func\\sub-0003054_ses-1_task-rest_run-2_bold\n",
      "Converted successfully  mriqc\\sub-0003054\\ses-1\\func\\sub-0003054_ses-1_task-rest_run-3_bold\n",
      "Converted successfully  mriqc\\sub-0003054\\ses-1\\func\\sub-0003054_ses-1_task-rest_run-4_bold\n",
      "Processing  sub-0003055\n",
      "Converted successfully  mriqc\\sub-0003055\\ses-1\\anat\\sub-0003055_ses-1_run-1_T1w\n",
      "Converted successfully  mriqc\\sub-0003055\\ses-1\\func\\sub-0003055_ses-1_task-rest_run-1_bold\n",
      "Converted successfully  mriqc\\sub-0003055\\ses-1\\func\\sub-0003055_ses-1_task-rest_run-2_bold\n",
      "Converted successfully  mriqc\\sub-0003055\\ses-1\\func\\sub-0003055_ses-1_task-rest_run-3_bold\n",
      "Converted successfully  mriqc\\sub-0003055\\ses-1\\func\\sub-0003055_ses-1_task-rest_run-4_bold\n",
      "Processing  sub-0003056\n",
      "Converted successfully  mriqc\\sub-0003056\\ses-1\\anat\\sub-0003056_ses-1_run-1_T1w\n",
      "Converted successfully  mriqc\\sub-0003056\\ses-1\\func\\sub-0003056_ses-1_task-rest_run-1_bold\n",
      "Converted successfully  mriqc\\sub-0003056\\ses-1\\func\\sub-0003056_ses-1_task-rest_run-2_bold\n",
      "Converted successfully  mriqc\\sub-0003056\\ses-1\\func\\sub-0003056_ses-1_task-rest_run-3_bold\n",
      "Converted successfully  mriqc\\sub-0003056\\ses-1\\func\\sub-0003056_ses-1_task-rest_run-4_bold\n",
      "Processing  sub-0003057\n",
      "Converted successfully  mriqc\\sub-0003057\\ses-1\\anat\\sub-0003057_ses-1_run-1_T1w\n",
      "Converted successfully  mriqc\\sub-0003057\\ses-1\\func\\sub-0003057_ses-1_task-rest_run-1_bold\n",
      "Converted successfully  mriqc\\sub-0003057\\ses-1\\func\\sub-0003057_ses-1_task-rest_run-2_bold\n",
      "Converted successfully  mriqc\\sub-0003057\\ses-1\\func\\sub-0003057_ses-1_task-rest_run-3_bold\n",
      "Converted successfully  mriqc\\sub-0003057\\ses-1\\func\\sub-0003057_ses-1_task-rest_run-4_bold\n",
      "Skipping  sub-0003058\n",
      "Processing  sub-0003059\n",
      "Converted successfully  mriqc\\sub-0003059\\ses-1\\anat\\sub-0003059_ses-1_run-1_T1w\n",
      "Converted successfully  mriqc\\sub-0003059\\ses-1\\func\\sub-0003059_ses-1_task-rest_run-1_bold\n",
      "Converted successfully  mriqc\\sub-0003059\\ses-1\\func\\sub-0003059_ses-1_task-rest_run-2_bold\n",
      "Converted successfully  mriqc\\sub-0003059\\ses-1\\func\\sub-0003059_ses-1_task-rest_run-3_bold\n",
      "Converted successfully  mriqc\\sub-0003059\\ses-1\\func\\sub-0003059_ses-1_task-rest_run-4_bold\n",
      "Processing  sub-0003060\n",
      "Converted successfully  mriqc\\sub-0003060\\ses-1\\anat\\sub-0003060_ses-1_run-1_T1w\n",
      "Converted successfully  mriqc\\sub-0003060\\ses-1\\func\\sub-0003060_ses-1_task-rest_run-1_bold\n",
      "Converted successfully  mriqc\\sub-0003060\\ses-1\\func\\sub-0003060_ses-1_task-rest_run-2_bold\n",
      "Processing  sub-0003061\n",
      "Converted successfully  mriqc\\sub-0003061\\ses-1\\anat\\sub-0003061_ses-1_run-1_T1w\n",
      "Converted successfully  mriqc\\sub-0003061\\ses-1\\func\\sub-0003061_ses-1_task-rest_run-1_bold\n",
      "Converted successfully  mriqc\\sub-0003061\\ses-1\\func\\sub-0003061_ses-1_task-rest_run-2_bold\n",
      "Processing  sub-0003062\n",
      "Converted successfully  mriqc\\sub-0003062\\ses-1\\anat\\sub-0003062_ses-1_run-1_T1w\n",
      "Converted successfully  mriqc\\sub-0003062\\ses-1\\func\\sub-0003062_ses-1_task-rest_run-1_bold\n",
      "Converted successfully  mriqc\\sub-0003062\\ses-1\\func\\sub-0003062_ses-1_task-rest_run-2_bold\n",
      "Converted successfully  mriqc\\sub-0003062\\ses-1\\func\\sub-0003062_ses-1_task-rest_run-3_bold\n",
      "Converted successfully  mriqc\\sub-0003062\\ses-1\\func\\sub-0003062_ses-1_task-rest_run-4_bold\n",
      "Processing  sub-0003063\n",
      "Converted successfully  mriqc\\sub-0003063\\ses-1\\anat\\sub-0003063_ses-1_run-1_T1w\n",
      "Converted successfully  mriqc\\sub-0003063\\ses-1\\func\\sub-0003063_ses-1_task-rest_run-1_bold\n",
      "Converted successfully  mriqc\\sub-0003063\\ses-1\\func\\sub-0003063_ses-1_task-rest_run-2_bold\n",
      "Converted successfully  mriqc\\sub-0003063\\ses-1\\func\\sub-0003063_ses-1_task-rest_run-3_bold\n",
      "Converted successfully  mriqc\\sub-0003063\\ses-1\\func\\sub-0003063_ses-1_task-rest_run-4_bold\n",
      "Processing  sub-0003064\n",
      "Converted successfully  mriqc\\sub-0003064\\ses-1\\anat\\sub-0003064_ses-1_run-1_T1w\n",
      "Converted successfully  mriqc\\sub-0003064\\ses-1\\func\\sub-0003064_ses-1_task-rest_run-1_bold\n",
      "Converted successfully  mriqc\\sub-0003064\\ses-1\\func\\sub-0003064_ses-1_task-rest_run-2_bold\n",
      "Converted successfully  mriqc\\sub-0003064\\ses-1\\func\\sub-0003064_ses-1_task-rest_run-3_bold\n",
      "Converted successfully  mriqc\\sub-0003064\\ses-1\\func\\sub-0003064_ses-1_task-rest_run-4_bold\n"
     ]
    }
   ],
   "source": [
    "path_data = 'mriqc'\n",
    "session='ses-1'\n",
    "for subj in subject_list:\n",
    "    #skip if subject does not exist\n",
    "    if len(glob.glob(op.join(path_data,subj,session))) ==0:\n",
    "        print('Skipping ', subj)\n",
    "        continue\n",
    "\n",
    "    print('Processing ', subj)\n",
    "    for mri in ['anat','func']:\n",
    "        if mri == 'anat':\n",
    "            json_file_name =  '{}_{}_run-1_T1w'.format(subj,session)\n",
    "            json_file = op.join(path_data,subj,session,mri,json_file_name)\n",
    "            try:\n",
    "                convert_json_to_csv(json_file)\n",
    "                print('Converted successfully ' , json_file)\n",
    "            except:\n",
    "                print('File not found', json_file)\n",
    "\n",
    "        else:\n",
    "            files = glob.glob(op.join(path_data,subj,session,mri)+\"\\\\*.json\")\n",
    "            for j in range(1,len(files)+1):\n",
    "                json_file_name =  '{}_{}_task-rest_run-{}_bold'.format(subj,session,str(j))\n",
    "                json_file = op.join(path_data,subj,session,mri,json_file_name)\n",
    "                try:\n",
    "                    convert_json_to_csv(json_file)\n",
    "                    print('Converted successfully ', json_file)\n",
    "                except:\n",
    "                    print('File not found', json_file)\n"
   ]
  },
  {
   "cell_type": "markdown",
   "metadata": {},
   "source": [
    "## Write image and csv file paths to csv file"
   ]
  },
  {
   "cell_type": "code",
   "execution_count": 6,
   "metadata": {},
   "outputs": [
    {
     "name": "stdout",
     "output_type": "stream",
     "text": [
      "Processing  sub-0003001\n",
      "Processing  sub-0003002\n",
      "Skipping  sub-0003003\n",
      "Processing  sub-0003004\n",
      "Skipping  sub-0003005\n",
      "Processing  sub-0003006\n",
      "Processing  sub-0003007\n",
      "Processing  sub-0003008\n",
      "Processing  sub-0003009\n",
      "Processing  sub-0003010\n",
      "Processing  sub-0003011\n",
      "Processing  sub-0003012\n",
      "Processing  sub-0003013\n",
      "Processing  sub-0003014\n",
      "Processing  sub-0003015\n",
      "Processing  sub-0003016\n",
      "Processing  sub-0003017\n",
      "Processing  sub-0003018\n",
      "Skipping  sub-0003019\n",
      "Processing  sub-0003020\n",
      "Processing  sub-0003021\n",
      "Processing  sub-0003022\n",
      "Processing  sub-0003023\n",
      "Processing  sub-0003024\n",
      "Processing  sub-0003025\n",
      "Processing  sub-0003026\n",
      "Skipping  sub-0003027\n",
      "Skipping  sub-0003028\n",
      "Skipping  sub-0003029\n",
      "Skipping  sub-0003030\n",
      "Skipping  sub-0003031\n",
      "Processing  sub-0003032\n",
      "Processing  sub-0003033\n",
      "Processing  sub-0003034\n",
      "Skipping  sub-0003035\n",
      "Skipping  sub-0003036\n",
      "Processing  sub-0003037\n",
      "Processing  sub-0003038\n",
      "Processing  sub-0003039\n",
      "Processing  sub-0003040\n",
      "Processing  sub-0003041\n",
      "Processing  sub-0003042\n",
      "Skipping  sub-0003043\n",
      "Processing  sub-0003044\n",
      "Processing  sub-0003045\n",
      "Skipping  sub-0003046\n",
      "Processing  sub-0003047\n",
      "Skipping  sub-0003048\n",
      "Processing  sub-0003049\n",
      "Processing  sub-0003050\n",
      "Processing  sub-0003051\n",
      "Processing  sub-0003052\n",
      "Skipping  sub-0003053\n",
      "Processing  sub-0003054\n",
      "Processing  sub-0003055\n",
      "Processing  sub-0003056\n",
      "Processing  sub-0003057\n",
      "Skipping  sub-0003058\n",
      "Processing  sub-0003059\n",
      "Processing  sub-0003060\n",
      "Processing  sub-0003061\n",
      "Processing  sub-0003062\n",
      "Processing  sub-0003063\n",
      "Processing  sub-0003064\n"
     ]
    }
   ],
   "source": [
    "path_data = 'mriqc'\n",
    "path_image = 'BMB'\n",
    "session='ses-1'\n",
    "row_list_anat = []\n",
    "row_list_func = []\n",
    "for subj in subject_list:\n",
    "    if len(glob.glob(op.join(path_data,subj,session))) ==0:\n",
    "        print('Skipping ', subj)\n",
    "        continue\n",
    "\n",
    "    print('Processing ', subj)\n",
    "    for mri in ['anat','func']:\n",
    "        if mri == 'anat':\n",
    "            csv_file_name =  '{}_{}_run-1_T1w'.format(subj,session)\n",
    "            csv_file = op.join(path_data,subj,session,mri,csv_file_name)\n",
    "            image_file = op.join(path_image,subj,session,mri,csv_file_name)\n",
    "            row_list_anat.append([image_file + '.nii.gz',csv_file + '.csv'])\n",
    "        else:\n",
    "            files = glob.glob(op.join(path_data,subj,session,mri)+\"\\\\*.json\")\n",
    "            for j in range(1,len(files)+1):\n",
    "                csv_file_name =  '{}_{}_task-rest_run-{}_bold'.format(subj,session,str(j))\n",
    "                csv_file = op.join(path_data,subj,session,mri,csv_file_name)\n",
    "                image_file = op.join(path_image,subj,session,mri,csv_file_name)\n",
    "                row_list_func.append([image_file + '.nii.gz',csv_file + '.csv'])"
   ]
  },
  {
   "cell_type": "code",
   "execution_count": 7,
   "metadata": {},
   "outputs": [],
   "source": [
    "filepaths_anat = 'filepaths_anat.csv'\n",
    "filepaths_func = 'filepaths_func.csv'\n",
    "# write anat files\n",
    "df_row_list_anat = pd.DataFrame(row_list_anat,columns=['features','labels'])\n",
    "df_row_list_anat.to_csv(filepaths_anat,index=False)\n",
    "# write func files\n",
    "df_row_list_func = pd.DataFrame(row_list_func,columns=['features','labels'])\n",
    "df_row_list_func.to_csv(filepaths_func,index=False)"
   ]
  },
  {
   "cell_type": "code",
   "execution_count": 8,
   "metadata": {},
   "outputs": [],
   "source": [
    "import nobrainer"
   ]
  },
  {
   "cell_type": "code",
   "execution_count": 9,
   "metadata": {},
   "outputs": [
    {
     "name": "stdout",
     "output_type": "stream",
     "text": [
      "BMB\n",
      "data_tf\n",
      "filepaths_anat.csv\n",
      "filepaths_func.csv\n",
      "mriqc\n"
     ]
    }
   ],
   "source": [
    "!ls"
   ]
  },
  {
   "cell_type": "code",
   "execution_count": 10,
   "metadata": {},
   "outputs": [
    {
     "name": "stderr",
     "output_type": "stream",
     "text": [
      "2021-06-18 17:11:43.629129: W tensorflow/stream_executor/platform/default/dso_loader.cc:64] Could not load dynamic library 'cudart64_110.dll'; dlerror: cudart64_110.dll not found\n",
      "2021-06-18 17:11:43.629198: I tensorflow/stream_executor/cuda/cudart_stub.cc:29] Ignore above cudart dlerror if you do not have a GPU set up on your machine.\n",
      "WARNING:tensorflow:From c:\\users\\esink\\anaconda3\\lib\\site-packages\\tensorflow_probability\\python\\internal\\variadic_reduce.py:115: calling function (from tensorflow.python.eager.def_function) with experimental_compile is deprecated and will be removed in a future version.\n",
      "Instructions for updating:\n",
      "experimental_compile is deprecated, use jit_compile instead\n",
      "Usage: nobrainer convert [OPTIONS]\n",
      "Try 'nobrainer convert --help' for help.\n",
      "\n",
      "Error: Invalid value for '-c' / '--csv': Path ''D:\\BrainHack\\QC\\data\\filepaths_anat.csv'' does not exist.\n"
     ]
    }
   ],
   "source": [
    "!nobrainer convert \\\n",
    "    --csv='D:\\BrainHack\\QC\\data\\filepaths_anat.csv' \\\n",
    "    --tfrecords-template='data_tf\\data_shard-{shard:03d}.tfrec' \\\n",
    "    --examples-per-shard=5 \\\n",
    "    --volume-shape 176 256 256 \\\n",
    "    --verbose"
   ]
  },
  {
   "cell_type": "code",
   "execution_count": 11,
   "metadata": {},
   "outputs": [
    {
     "name": "stdout",
     "output_type": "stream",
     "text": [
      "Usage: nobrainer convert [OPTIONS]\n",
      "\n",
      "  Convert medical imaging volumes to TFRecords.\n",
      "\n",
      "  Volumes must all be the same shape. This will overwrite existing TFRecord\n",
      "  files.\n",
      "\n",
      "  Labels can be volumetric or scalar.\n",
      "\n",
      "Options:\n",
      "  -c, --csv PATH                  [required]\n",
      "  -t, --tfrecords-template TEXT   [default:\n",
      "                                  tfrecords/data_shard-{shard:03d}.tfrec;\n",
      "                                  required]\n",
      "\n",
      "  -s, --volume-shape INTEGER...   [required]\n",
      "  -n, --examples-per-shard INTEGER\n",
      "                                  Number of (feature, label) pairs per\n",
      "                                  TFRecord file.  [default: 100]\n",
      "\n",
      "  --to-ras / --no-to-ras          Reorient volumes to RAS before saving to\n",
      "                                  TFRecords.  [default: True]\n",
      "\n",
      "  --gzip / --no-gzip              Compress TFRecords with gzip (highly\n",
      "                                  recommended).  [default: True]\n",
      "\n",
      "  --verify-volumes / --no-verify-volumes\n",
      "                                  Verify volume pairs before converting. This\n",
      "                                  option is highly recommended, as it checks\n",
      "                                  that shapes of features and labels are equal\n",
      "                                  to \"volume-shape\", that labels are (or can\n",
      "                                  safely be coerced to) an integer type, and\n",
      "                                  that labels are all >= 0.  [default: True]"
     ]
    },
    {
     "name": "stderr",
     "output_type": "stream",
     "text": [
      "2021-06-18 17:11:49.276178: W tensorflow/stream_executor/platform/default/dso_loader.cc:64] Could not load dynamic library 'cudart64_110.dll'; dlerror: cudart64_110.dll not found\n",
      "2021-06-18 17:11:49.276243: I tensorflow/stream_executor/cuda/cudart_stub.cc:29] Ignore above cudart dlerror if you do not have a GPU set up on your machine.\n",
      "WARNING:tensorflow:From c:\\users\\esink\\anaconda3\\lib\\site-packages\\tensorflow_probability\\python\\internal\\variadic_reduce.py:115: calling function (from tensorflow.python.eager.def_function) with experimental_compile is deprecated and will be removed in a future version.\n",
      "Instructions for updating:\n",
      "experimental_compile is deprecated, use jit_compile instead\n"
     ]
    },
    {
     "name": "stdout",
     "output_type": "stream",
     "text": [
      "\n",
      "\n",
      "  -j, --num-parallel-calls INTEGER\n",
      "                                  Number of processes to use. If -1, uses all\n",
      "                                  available processes.  [default: -1]\n",
      "\n",
      "  -v, --verbose                   Print progress bar.  [default: False]\n",
      "  --help                          Show this message and exit.\n"
     ]
    }
   ],
   "source": [
    "!nobrainer convert --help"
   ]
  },
  {
   "cell_type": "code",
   "execution_count": 12,
   "metadata": {},
   "outputs": [
    {
     "ename": "ValueError",
     "evalue": "all items in 'volume_filepaths' must have length of 2, but found at least one item with lenght != 2.",
     "output_type": "error",
     "traceback": [
      "\u001b[1;31m---------------------------------------------------------------------------\u001b[0m",
      "\u001b[1;31mValueError\u001b[0m                                Traceback (most recent call last)",
      "\u001b[1;32m<ipython-input-12-6230d8c59e1d>\u001b[0m in \u001b[0;36m<module>\u001b[1;34m\u001b[0m\n\u001b[1;32m----> 1\u001b[1;33m \u001b[0minvalid\u001b[0m \u001b[1;33m=\u001b[0m \u001b[0mnobrainer\u001b[0m\u001b[1;33m.\u001b[0m\u001b[0mio\u001b[0m\u001b[1;33m.\u001b[0m\u001b[0mverify_features_labels\u001b[0m\u001b[1;33m(\u001b[0m\u001b[0mfilepaths_anat\u001b[0m\u001b[1;33m)\u001b[0m\u001b[1;33m\u001b[0m\u001b[1;33m\u001b[0m\u001b[0m\n\u001b[0m",
      "\u001b[1;32m~\\anaconda3\\lib\\site-packages\\nobrainer\\io.py\u001b[0m in \u001b[0;36mverify_features_labels\u001b[1;34m(volume_filepaths, volume_shape, check_shape, check_labels_int, check_labels_gte_zero, num_parallel_calls, verbose)\u001b[0m\n\u001b[0;32m     85\u001b[0m     \u001b[1;32mfor\u001b[0m \u001b[0mpair\u001b[0m \u001b[1;32min\u001b[0m \u001b[0mvolume_filepaths\u001b[0m\u001b[1;33m:\u001b[0m\u001b[1;33m\u001b[0m\u001b[1;33m\u001b[0m\u001b[0m\n\u001b[0;32m     86\u001b[0m         \u001b[1;32mif\u001b[0m \u001b[0mlen\u001b[0m\u001b[1;33m(\u001b[0m\u001b[0mpair\u001b[0m\u001b[1;33m)\u001b[0m \u001b[1;33m!=\u001b[0m \u001b[1;36m2\u001b[0m\u001b[1;33m:\u001b[0m\u001b[1;33m\u001b[0m\u001b[1;33m\u001b[0m\u001b[0m\n\u001b[1;32m---> 87\u001b[1;33m             raise ValueError(\n\u001b[0m\u001b[0;32m     88\u001b[0m                 \u001b[1;34m\"all items in 'volume_filepaths' must have length of 2, but\"\u001b[0m\u001b[1;33m\u001b[0m\u001b[1;33m\u001b[0m\u001b[0m\n\u001b[0;32m     89\u001b[0m                 \u001b[1;34m\" found at least one item with lenght != 2.\"\u001b[0m\u001b[1;33m\u001b[0m\u001b[1;33m\u001b[0m\u001b[0m\n",
      "\u001b[1;31mValueError\u001b[0m: all items in 'volume_filepaths' must have length of 2, but found at least one item with lenght != 2."
     ]
    }
   ],
   "source": [
    "invalid = nobrainer.io.verify_features_labels(filepaths_anat)"
   ]
  },
  {
   "cell_type": "code",
   "execution_count": 13,
   "metadata": {},
   "outputs": [
    {
     "data": {
      "text/plain": [
       "'filepaths_anat.csv'"
      ]
     },
     "execution_count": 13,
     "metadata": {},
     "output_type": "execute_result"
    }
   ],
   "source": [
    "filepaths_anat"
   ]
  },
  {
   "cell_type": "code",
   "execution_count": 14,
   "metadata": {},
   "outputs": [
    {
     "ename": "AttributeError",
     "evalue": "module 'os' has no attribute 'sched_getaffinity'",
     "output_type": "error",
     "traceback": [
      "\u001b[1;31m---------------------------------------------------------------------------\u001b[0m",
      "\u001b[1;31mAttributeError\u001b[0m                            Traceback (most recent call last)",
      "\u001b[1;32m<ipython-input-14-e99d774da085>\u001b[0m in \u001b[0;36m<module>\u001b[1;34m\u001b[0m\n\u001b[0;32m      1\u001b[0m \u001b[0mfilepaths\u001b[0m \u001b[1;33m=\u001b[0m \u001b[0mnobrainer\u001b[0m\u001b[1;33m.\u001b[0m\u001b[0mio\u001b[0m\u001b[1;33m.\u001b[0m\u001b[0mread_csv\u001b[0m\u001b[1;33m(\u001b[0m\u001b[0mfilepaths_anat\u001b[0m\u001b[1;33m)\u001b[0m\u001b[1;33m\u001b[0m\u001b[1;33m\u001b[0m\u001b[0m\n\u001b[1;32m----> 2\u001b[1;33m \u001b[0minvalid\u001b[0m \u001b[1;33m=\u001b[0m \u001b[0mnobrainer\u001b[0m\u001b[1;33m.\u001b[0m\u001b[0mio\u001b[0m\u001b[1;33m.\u001b[0m\u001b[0mverify_features_labels\u001b[0m\u001b[1;33m(\u001b[0m\u001b[0mfilepaths\u001b[0m\u001b[1;33m)\u001b[0m\u001b[1;33m\u001b[0m\u001b[1;33m\u001b[0m\u001b[0m\n\u001b[0m",
      "\u001b[1;32m~\\anaconda3\\lib\\site-packages\\nobrainer\\io.py\u001b[0m in \u001b[0;36mverify_features_labels\u001b[1;34m(volume_filepaths, volume_shape, check_shape, check_labels_int, check_labels_gte_zero, num_parallel_calls, verbose)\u001b[0m\n\u001b[0;32m    115\u001b[0m         \u001b[1;31m# Get number of processes allocated to the current process.\u001b[0m\u001b[1;33m\u001b[0m\u001b[1;33m\u001b[0m\u001b[1;33m\u001b[0m\u001b[0m\n\u001b[0;32m    116\u001b[0m         \u001b[1;31m# Note the difference from `os.cpu_count()`.\u001b[0m\u001b[1;33m\u001b[0m\u001b[1;33m\u001b[0m\u001b[1;33m\u001b[0m\u001b[0m\n\u001b[1;32m--> 117\u001b[1;33m         \u001b[0mnum_parallel_calls\u001b[0m \u001b[1;33m=\u001b[0m \u001b[0mlen\u001b[0m\u001b[1;33m(\u001b[0m\u001b[0mos\u001b[0m\u001b[1;33m.\u001b[0m\u001b[0msched_getaffinity\u001b[0m\u001b[1;33m(\u001b[0m\u001b[1;36m0\u001b[0m\u001b[1;33m)\u001b[0m\u001b[1;33m)\u001b[0m\u001b[1;33m\u001b[0m\u001b[1;33m\u001b[0m\u001b[0m\n\u001b[0m\u001b[0;32m    118\u001b[0m \u001b[1;33m\u001b[0m\u001b[0m\n\u001b[0;32m    119\u001b[0m     \u001b[0mprint\u001b[0m\u001b[1;33m(\u001b[0m\u001b[1;34m\"Verifying {} examples\"\u001b[0m\u001b[1;33m.\u001b[0m\u001b[0mformat\u001b[0m\u001b[1;33m(\u001b[0m\u001b[0mlen\u001b[0m\u001b[1;33m(\u001b[0m\u001b[0mvolume_filepaths\u001b[0m\u001b[1;33m)\u001b[0m\u001b[1;33m)\u001b[0m\u001b[1;33m)\u001b[0m\u001b[1;33m\u001b[0m\u001b[1;33m\u001b[0m\u001b[0m\n",
      "\u001b[1;31mAttributeError\u001b[0m: module 'os' has no attribute 'sched_getaffinity'"
     ]
    }
   ],
   "source": [
    "filepaths = nobrainer.io.read_csv(filepaths_anat)\n",
    "invalid = nobrainer.io.verify_features_labels(filepaths)"
   ]
  },
  {
   "cell_type": "code",
   "execution_count": null,
   "metadata": {},
   "outputs": [],
   "source": []
  }
 ],
 "metadata": {
  "kernelspec": {
   "display_name": "Python 3",
   "language": "python",
   "name": "python3"
  },
  "language_info": {
   "codemirror_mode": {
    "name": "ipython",
    "version": 3
   },
   "file_extension": ".py",
   "mimetype": "text/x-python",
   "name": "python",
   "nbconvert_exporter": "python",
   "pygments_lexer": "ipython3",
   "version": "3.8.5"
  }
 },
 "nbformat": 4,
 "nbformat_minor": 4
}
